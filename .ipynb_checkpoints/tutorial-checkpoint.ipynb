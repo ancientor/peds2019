{
 "cells": [
  {
   "cell_type": "markdown",
   "metadata": {},
   "source": [
    "## 1. Setup"
   ]
  },
  {
   "cell_type": "markdown",
   "metadata": {},
   "source": [
    "The tool was developped based on the following dependencies:\n",
    "\n",
    "1. PyTorch (1.1 or later).\n",
    "2. NumPy (1.16 or later).\n",
    "3. tqdm (4.31 or later).\n",
    "\n",
    "Please note that the dependencies may require Python version greater than or equal to 3.6. It is recommemded to install and maintain all dependencies by using [`conda`](https://www.anaconda.com/) or [`pip`](https://pypi.org/project/pip/). For PyTorch installation, especially when GPU acceleration is needed, additional effort may be required. Please check the official websites of [PyTorch](https://pytorch.org/get-started/locally/) and [CUDA](https://developer.nvidia.com/cuda-downloads) for detailed instructions."
   ]
  },
  {
   "cell_type": "markdown",
   "metadata": {},
   "source": [
    "## 2. How to Use"
   ]
  },
  {
   "cell_type": "markdown",
   "metadata": {},
   "source": [
    "After all dependencies being resolved, no installation is further required. You can use the tool either through command-line or function calls in your code."
   ]
  },
  {
   "cell_type": "markdown",
   "metadata": {},
   "source": [
    "### 2.1 Data format"
   ]
  },
  {
   "cell_type": "markdown",
   "metadata": {},
   "source": [
    "All antibody protein sequences must be stored in plain-text format. A sequence consists of 20 amino acid symbol letters along with `\"-\"` to indicate gap. Sequences are deliminated by one single line-break. Please do not include spaces or extra line-breaks which will somehow confuse the program. The following lines show what the data is supposed to look like. Also, you can find sample data files under `<tool root>/data/sample/`\n",
    "\n",
    "```\n",
    "-QVQLVQS-GAEVKKPGSSVKVSCTTSG-GTFSS-----FVINWMRQAPGQGLGWRGGIMPV---\n",
    "-EVQLLES-GGGLVQPGGSLRLSCAGSG-FTFSS-----YAMSWVRQTPGKGLEWVSVISGS---\n",
    "-QVQLVES-GGGVVQSGRSLRLSCAASG-FTFRS-----HAIHWVGQAPGKGLEGVGVMSHD---\n",
    "-QVHLVQS-GAEVHKPGASLRISCKASG-YTFPN-----FFLHWVRQAPGQGLEWMGIINPI---\n",
    "-QVQLQES-GPGLMKPSGTLSLTCDVSG-ASISN----TNWWGWVRQPPGLGLEWIGEIHH----\n",
    "```\n",
    "\n",
    "If you want to generate data using Windows notepad, please be careful what the underlying line-break symbol is. "
   ]
  },
  {
   "cell_type": "markdown",
   "metadata": {},
   "source": [
    "### 2.2 Through function calls"
   ]
  },
  {
   "cell_type": "markdown",
   "metadata": {},
   "source": [
    "### 2.2.1 Initialize"
   ]
  },
  {
   "cell_type": "markdown",
   "metadata": {},
   "source": [
    "LSTM model is initialized by calling `model.ModelLSTM.__init__()` which takes 5 parameters:\n",
    "\n",
    "1. `embedding_dim`: Embedding layer dimensions.\n",
    "2. `hidden_dim`: Hiddden layer dimensions.\n",
    "3. `device`: Device that the model will be mounted on.\n",
    "4. `gapped`: Indicate whether the input sequences contains gaps.\n",
    "5. `fixed_len`: Indicate whether the input sequences share equal length."
   ]
  },
  {
   "cell_type": "code",
   "execution_count": 1,
   "metadata": {},
   "outputs": [
    {
     "name": "stdout",
     "output_type": "stream",
     "text": [
      "Model initialized.\n"
     ]
    }
   ],
   "source": [
    "from model import ModelLSTM\n",
    "\n",
    "# initialize model\n",
    "model = ModelLSTM(embedding_dim=64, hidden_dim=64, device='cuda:0', gapped=True, fixed_len=True)\n",
    "print('Model initialized.')"
   ]
  },
  {
   "cell_type": "markdown",
   "metadata": {},
   "source": [
    "### 2.2.2 Train"
   ]
  },
  {
   "cell_type": "markdown",
   "metadata": {},
   "source": [
    "`model.ModelLSTM.fit()` fits the model via the given training and validation data. It has 8 parameters:\n",
    "1. `trn_fn`: Data file for training.\n",
    "2. `vld_fn`: Data file for validation.\n",
    "3. `n_epoch`: Number of epochs.\n",
    "4. `trn_batch_size`: Batch size during training. `-1` means whole batch.\n",
    "5. `vld_batch_size`: Batch size during validation. `-1` means whole batch.\n",
    "6. `lr`: Learning rate.\n",
    "7. `save_model`: Path to save models. `None` means training without saving.\n",
    "8. `n_iter_per_print`: Interval of displaying training statistics.\n",
    "\n",
    "If GPU is available and CUDA is correctlly installed, you can assign `device` to be `\"cuda:0\"` (or `\"cuda:1\"` and so on if you have more GPUs) that will greatly accelerate the training process. For `fixed_len`, you can set it `False` without any issue, but when the sequence lengths are assured to be the same, setting it `True` will help accelerate the computation as well."
   ]
  },
  {
   "cell_type": "code",
   "execution_count": 2,
   "metadata": {},
   "outputs": [
    {
     "name": "stdout",
     "output_type": "stream",
     "text": [
      "epoch: 0\n"
     ]
    },
    {
     "data": {
      "application/vnd.jupyter.widget-view+json": {
       "model_id": "c7b3af493f294112ab5a2cb12f1c380b",
       "version_major": 2,
       "version_minor": 0
      },
      "text/html": [
       "<p>Failed to display Jupyter Widget of type <code>HBox</code>.</p>\n",
       "<p>\n",
       "  If you're reading this message in the Jupyter Notebook or JupyterLab Notebook, it may mean\n",
       "  that the widgets JavaScript is still loading. If this message persists, it\n",
       "  likely means that the widgets JavaScript library is either not installed or\n",
       "  not enabled. See the <a href=\"https://ipywidgets.readthedocs.io/en/stable/user_install.html\">Jupyter\n",
       "  Widgets Documentation</a> for setup instructions.\n",
       "</p>\n",
       "<p>\n",
       "  If you're reading this message in another frontend (for example, a static\n",
       "  rendering on GitHub or <a href=\"https://nbviewer.jupyter.org/\">NBViewer</a>),\n",
       "  it may mean that your frontend doesn't currently support widgets.\n",
       "</p>\n"
      ],
      "text/plain": [
       "HBox(children=(IntProgress(value=0, max=349), HTML(value='')))"
      ]
     },
     "metadata": {},
     "output_type": "display_data"
    },
    {
     "name": "stdout",
     "output_type": "stream",
     "text": [
      "\ttrain_loss: 1.917845345959805\ttrain_acc: 0.4572417104991749\n",
      "\ttrain_loss: 0.9575576162338257\ttrain_acc: 0.7550352213541667\n",
      "\ttrain_loss: 0.8259890300035476\ttrain_acc: 0.7881634114583334\n",
      "\n"
     ]
    },
    {
     "data": {
      "application/vnd.jupyter.widget-view+json": {
       "model_id": "5283b73c22bf4d49844f04b53611de21",
       "version_major": 2,
       "version_minor": 0
      },
      "text/html": [
       "<p>Failed to display Jupyter Widget of type <code>HBox</code>.</p>\n",
       "<p>\n",
       "  If you're reading this message in the Jupyter Notebook or JupyterLab Notebook, it may mean\n",
       "  that the widgets JavaScript is still loading. If this message persists, it\n",
       "  likely means that the widgets JavaScript library is either not installed or\n",
       "  not enabled. See the <a href=\"https://ipywidgets.readthedocs.io/en/stable/user_install.html\">Jupyter\n",
       "  Widgets Documentation</a> for setup instructions.\n",
       "</p>\n",
       "<p>\n",
       "  If you're reading this message in another frontend (for example, a static\n",
       "  rendering on GitHub or <a href=\"https://nbviewer.jupyter.org/\">NBViewer</a>),\n",
       "  it may mean that your frontend doesn't currently support widgets.\n",
       "</p>\n"
      ],
      "text/plain": [
       "HBox(children=(IntProgress(value=0, max=75), HTML(value='')))"
      ]
     },
     "metadata": {},
     "output_type": "display_data"
    },
    {
     "name": "stdout",
     "output_type": "stream",
     "text": [
      "\n",
      "val_loss: 0.7772304595805988\tval_acc: 0.8007404212681609\n",
      "epoch: 1\n"
     ]
    },
    {
     "data": {
      "application/vnd.jupyter.widget-view+json": {
       "model_id": "2b737b3a15e1467fa6b588ef9fea2194",
       "version_major": 2,
       "version_minor": 0
      },
      "text/html": [
       "<p>Failed to display Jupyter Widget of type <code>HBox</code>.</p>\n",
       "<p>\n",
       "  If you're reading this message in the Jupyter Notebook or JupyterLab Notebook, it may mean\n",
       "  that the widgets JavaScript is still loading. If this message persists, it\n",
       "  likely means that the widgets JavaScript library is either not installed or\n",
       "  not enabled. See the <a href=\"https://ipywidgets.readthedocs.io/en/stable/user_install.html\">Jupyter\n",
       "  Widgets Documentation</a> for setup instructions.\n",
       "</p>\n",
       "<p>\n",
       "  If you're reading this message in another frontend (for example, a static\n",
       "  rendering on GitHub or <a href=\"https://nbviewer.jupyter.org/\">NBViewer</a>),\n",
       "  it may mean that your frontend doesn't currently support widgets.\n",
       "</p>\n"
      ],
      "text/plain": [
       "HBox(children=(IntProgress(value=0, max=349), HTML(value='')))"
      ]
     },
     "metadata": {},
     "output_type": "display_data"
    },
    {
     "name": "stdout",
     "output_type": "stream",
     "text": [
      "\ttrain_loss: 0.7630794160436876\ttrain_acc: 0.8039923035272277\n",
      "\ttrain_loss: 0.7402294319868088\ttrain_acc: 0.8093529947916667\n",
      "\ttrain_loss: 0.7254529589414597\ttrain_acc: 0.81278828125\n",
      "\n"
     ]
    },
    {
     "data": {
      "application/vnd.jupyter.widget-view+json": {
       "model_id": "9d2a50b6d5204988acb7f4c61d36564a",
       "version_major": 2,
       "version_minor": 0
      },
      "text/html": [
       "<p>Failed to display Jupyter Widget of type <code>HBox</code>.</p>\n",
       "<p>\n",
       "  If you're reading this message in the Jupyter Notebook or JupyterLab Notebook, it may mean\n",
       "  that the widgets JavaScript is still loading. If this message persists, it\n",
       "  likely means that the widgets JavaScript library is either not installed or\n",
       "  not enabled. See the <a href=\"https://ipywidgets.readthedocs.io/en/stable/user_install.html\">Jupyter\n",
       "  Widgets Documentation</a> for setup instructions.\n",
       "</p>\n",
       "<p>\n",
       "  If you're reading this message in another frontend (for example, a static\n",
       "  rendering on GitHub or <a href=\"https://nbviewer.jupyter.org/\">NBViewer</a>),\n",
       "  it may mean that your frontend doesn't currently support widgets.\n",
       "</p>\n"
      ],
      "text/plain": [
       "HBox(children=(IntProgress(value=0, max=75), HTML(value='')))"
      ]
     },
     "metadata": {},
     "output_type": "display_data"
    },
    {
     "name": "stdout",
     "output_type": "stream",
     "text": [
      "\n",
      "val_loss: 0.7121623705853234\tval_acc: 0.8159438018689146\n"
     ]
    }
   ],
   "source": [
    "# tell tqdm that it's running in jupyter notebook environment\n",
    "model._tqdm_mode('tqdm_notebook')\n",
    "\n",
    "# data file names\n",
    "trn_fn = './data/sample/human_train.txt'\n",
    "vld_fn = './data/sample/human_val.txt'\n",
    "\n",
    "# fit model\n",
    "model.fit(trn_fn=trn_fn, vld_fn=vld_fn, n_epoch=2, trn_batch_size=1024, vld_batch_size=1024, lr=.002,\n",
    "          save_model=None, n_iter_per_print=100)"
   ]
  },
  {
   "cell_type": "markdown",
   "metadata": {},
   "source": [
    "### 2.2.3 Evaluate"
   ]
  },
  {
   "cell_type": "markdown",
   "metadata": {},
   "source": [
    "`model.ModelLSTM.eval()` scores the given sequences. It takes 2 parameters.\n",
    "\n",
    "1. `fn`: Data file for evaluation.\n",
    "2. `batch_size`: Batch size. -1 means whole batch.\n",
    "\n",
    "The method returns:\n",
    "\n",
    "1. 1-D NumPy array consists of all sequences' scores. Order is preserved.\n",
    "\n",
    "To maximize evaluation speed, batch size is prefered to be as large as possible, but if there is any memory or GPU memory issue, please reduce the batch size."
   ]
  },
  {
   "cell_type": "code",
   "execution_count": 5,
   "metadata": {},
   "outputs": [
    {
     "name": "stdout",
     "output_type": "stream",
     "text": [
      "Evaluating human sequences...\n"
     ]
    },
    {
     "data": {
      "application/vnd.jupyter.widget-view+json": {
       "model_id": "c2e0682f2f414f4180d45e12a587d408",
       "version_major": 2,
       "version_minor": 0
      },
      "text/html": [
       "<p>Failed to display Jupyter Widget of type <code>HBox</code>.</p>\n",
       "<p>\n",
       "  If you're reading this message in the Jupyter Notebook or JupyterLab Notebook, it may mean\n",
       "  that the widgets JavaScript is still loading. If this message persists, it\n",
       "  likely means that the widgets JavaScript library is either not installed or\n",
       "  not enabled. See the <a href=\"https://ipywidgets.readthedocs.io/en/stable/user_install.html\">Jupyter\n",
       "  Widgets Documentation</a> for setup instructions.\n",
       "</p>\n",
       "<p>\n",
       "  If you're reading this message in another frontend (for example, a static\n",
       "  rendering on GitHub or <a href=\"https://nbviewer.jupyter.org/\">NBViewer</a>),\n",
       "  it may mean that your frontend doesn't currently support widgets.\n",
       "</p>\n"
      ],
      "text/plain": [
       "HBox(children=(IntProgress(value=0, max=75), HTML(value='')))"
      ]
     },
     "metadata": {},
     "output_type": "display_data"
    },
    {
     "name": "stdout",
     "output_type": "stream",
     "text": [
      "\n",
      "Evaluating human sequences...\n"
     ]
    },
    {
     "data": {
      "application/vnd.jupyter.widget-view+json": {
       "model_id": "aa9858782696419e8ca80d6cb377fd5c",
       "version_major": 2,
       "version_minor": 0
      },
      "text/html": [
       "<p>Failed to display Jupyter Widget of type <code>HBox</code>.</p>\n",
       "<p>\n",
       "  If you're reading this message in the Jupyter Notebook or JupyterLab Notebook, it may mean\n",
       "  that the widgets JavaScript is still loading. If this message persists, it\n",
       "  likely means that the widgets JavaScript library is either not installed or\n",
       "  not enabled. See the <a href=\"https://ipywidgets.readthedocs.io/en/stable/user_install.html\">Jupyter\n",
       "  Widgets Documentation</a> for setup instructions.\n",
       "</p>\n",
       "<p>\n",
       "  If you're reading this message in another frontend (for example, a static\n",
       "  rendering on GitHub or <a href=\"https://nbviewer.jupyter.org/\">NBViewer</a>),\n",
       "  it may mean that your frontend doesn't currently support widgets.\n",
       "</p>\n"
      ],
      "text/plain": [
       "HBox(children=(IntProgress(value=0, max=489), HTML(value='')))"
      ]
     },
     "metadata": {},
     "output_type": "display_data"
    },
    {
     "name": "stdout",
     "output_type": "stream",
     "text": [
      "\n"
     ]
    }
   ],
   "source": [
    "# data file names\n",
    "human_tst_fn = './data/sample/human_test.txt'\n",
    "mouse_tst_fn = './data/sample/mouse_test.txt'\n",
    "\n",
    "# evaluate\n",
    "print('Evaluating human sequences...')\n",
    "human_tst_scores = model.eval(fn=human_tst_fn, batch_size=1024)\n",
    "print('Evaluating mouse sequences...')\n",
    "mouse_tst_scores = model.eval(fn=mouse_tst_fn, batch_size=1024)"
   ]
  },
  {
   "cell_type": "markdown",
   "metadata": {},
   "source": [
    "Let's visualize the result."
   ]
  },
  {
   "cell_type": "code",
   "execution_count": 11,
   "metadata": {},
   "outputs": [
    {
     "data": {
      "image/png": "[encoded data removed]",
      "text/plain": [
       "<matplotlib.figure.Figure at 0x1deff9689e8>"
      ]
     },
     "metadata": {},
     "output_type": "display_data"
    }
   ],
   "source": [
    "import matplotlib.pyplot as plt\n",
    "plt.hist(human_tst_scores, bins=100, alpha=0.8, density=True, label='Human')\n",
    "plt.hist(mouse_tst_scores, bins=100, alpha=0.8, density=True, label='Mouse')\n",
    "plt.legend()\n",
    "plt.show()"
   ]
  },
  {
   "cell_type": "markdown",
   "metadata": {},
   "source": [
    "### 2.2.4 Save & Load"
   ]
  },
  {
   "cell_type": "markdown",
   "metadata": {},
   "source": [
    "`model.ModelLSTM.save()` has 1 parameter.\n",
    "\n",
    "1. `fn`: Save file name.\n",
    "\n",
    "`model.ModelLSTM.load()` has 1 parameter and returns the loaded model.\n",
    "\n",
    "1. `fn`: Load file name.\n",
    "\n",
    "Please note that when `load()` method is invoked, all parameters will be overloaded and `device` will be reset to `\"cpu\"`. You may call `to()` method to switch among different devices.\n",
    "\n",
    "`model.ModelLSTM.to()` has 1 parameter.\n",
    "\n",
    "1. `device`: Device to mount."
   ]
  },
  {
   "cell_type": "markdown",
   "metadata": {},
   "source": [
    "### 2.3 Through command-line"
   ]
  },
  {
   "cell_type": "code",
   "execution_count": null,
   "metadata": {},
   "outputs": [],
   "source": []
  },
  {
   "cell_type": "code",
   "execution_count": null,
   "metadata": {},
   "outputs": [],
   "source": []
  }
 ],
 "metadata": {
  "kernelspec": {
   "display_name": "Python 3",
   "language": "python",
   "name": "python3"
  },
  "language_info": {
   "codemirror_mode": {
    "name": "ipython",
    "version": 3
   },
   "file_extension": ".py",
   "mimetype": "text/x-python",
   "name": "python",
   "nbconvert_exporter": "python",
   "pygments_lexer": "ipython3",
   "version": "3.6.4"
  }
 },
 "nbformat": 4,
 "nbformat_minor": 2
}
