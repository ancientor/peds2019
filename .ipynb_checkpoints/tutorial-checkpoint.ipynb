{
 "cells": [
  {
   "cell_type": "markdown",
   "metadata": {},
   "source": [
    "## 1. Setup"
   ]
  },
  {
   "cell_type": "markdown",
   "metadata": {},
   "source": [
    "The tool was developped based on the following dependencies:\n",
    "\n",
    "1. PyTorch (1.1 or greater).\n",
    "2. NumPy (1.16 or greater).\n",
    "3. tqdm (4.31 or greater).\n",
    "\n",
    "Please note that the dependencies may require Python version 3.6 or greater. It is recommemded to install and maintain all dependencies by using [`conda`](https://www.anaconda.com/) or [`pip`](https://pypi.org/project/pip/). For PyTorch installation, especially when GPU acceleration is needed, additional effort may be required. Please check the official websites of [PyTorch](https://pytorch.org/get-started/locally/) and [CUDA](https://developer.nvidia.com/cuda-downloads) for detailed instructions."
   ]
  },
  {
   "cell_type": "markdown",
   "metadata": {},
   "source": [
    "## 2. How to Use"
   ]
  },
  {
   "cell_type": "markdown",
   "metadata": {},
   "source": [
    "After all dependencies being resolved, no installation is further required. You can use the tool either through command-line or function calls in your code."
   ]
  },
  {
   "cell_type": "markdown",
   "metadata": {},
   "source": [
    "### 2.1 Data format"
   ]
  },
  {
   "cell_type": "markdown",
   "metadata": {},
   "source": [
    "All antibody protein sequences must be stored in plain-text format. A sequence consists of 20 amino acid symbol letters along with `\"-\"` to indicate gap. Sequences are deliminated by one single line-break. Please do not include spaces or extra line-breaks which will somehow confuse the program. The following lines show what the data is supposed to look like. Also, you can find sample data files under `<tool root>/data/sample/`\n",
    "\n",
    "```\n",
    "-QVQLVQS-GAEVKKPGSSVKVSCTTSG-GTFSS-----FVINWMRQAPGQGLGWRGGIMPV---\n",
    "-EVQLLES-GGGLVQPGGSLRLSCAGSG-FTFSS-----YAMSWVRQTPGKGLEWVSVISGS---\n",
    "-QVQLVES-GGGVVQSGRSLRLSCAASG-FTFRS-----HAIHWVGQAPGKGLEGVGVMSHD---\n",
    "-QVHLVQS-GAEVHKPGASLRISCKASG-YTFPN-----FFLHWVRQAPGQGLEWMGIINPI---\n",
    "-QVQLQES-GPGLMKPSGTLSLTCDVSG-ASISN----TNWWGWVRQPPGLGLEWIGEIHH----\n",
    "```\n",
    "\n",
    "If you want to generate data using Windows notepad, please be careful what the underlying line-break symbol is. "
   ]
  },
  {
   "cell_type": "markdown",
   "metadata": {},
   "source": [
    "### 2.2 Through function calls"
   ]
  },
  {
   "cell_type": "markdown",
   "metadata": {},
   "source": [
    "### 2.2.1 Initialization"
   ]
  },
  {
   "cell_type": "markdown",
   "metadata": {},
   "source": [
    "**`ablstm.ModelLSTM.__init__()`** initializes an LSTM model with the given paramters.\n",
    "\n",
    "Parameters:\n",
    "\n",
    "1. `embedding_dim`: Embedding layer dimensions.\n",
    "2. `hidden_dim`: Hiddden layer dimensions.\n",
    "3. `device`: Device that the model will be mounted on.\n",
    "4. `gapped`: Indicate whether the input sequences contains gaps.\n",
    "5. `fixed_len`: Indicate whether the input sequences share equal length."
   ]
  },
  {
   "cell_type": "code",
   "execution_count": 1,
   "metadata": {},
   "outputs": [
    {
     "name": "stdout",
     "output_type": "stream",
     "text": [
      "Model initialized.\n"
     ]
    }
   ],
   "source": [
    "from ablstm import ModelLSTM\n",
    "\n",
    "# initialize model\n",
    "# change device to 'cpu' if CUDA is not working properly\n",
    "model = ModelLSTM(embedding_dim=64, hidden_dim=64, device='cuda:0', gapped=True, fixed_len=True)\n",
    "print('Model initialized.')"
   ]
  },
  {
   "cell_type": "markdown",
   "metadata": {},
   "source": [
    "### 2.2.2 Training"
   ]
  },
  {
   "cell_type": "markdown",
   "metadata": {},
   "source": [
    "**`ablstm.ModelLSTM.fit()`** fits the model via the given training and validation data. If GPU is available and CUDA is properly installed, you can assign `device` to be `\"cuda:0\"` (or `\"cuda:1\"` and so on if you have more GPUs) that will greatly accelerate the training process. For `fixed_len`, you can set it `False` without any issue, but when the sequence lengths are assured to be the same, setting it `True` will help speed up the computation as well. `save_model` is optional, if a valid path is given, model will be saved after each epoch as long as the validation performance is better than the past.\n",
    "\n",
    "Parameters:\n",
    "\n",
    "1. `trn_fn`: Data file for training.\n",
    "2. `vld_fn`: Data file for validation.\n",
    "3. `n_epoch`: Number of epochs.\n",
    "4. `trn_batch_size`: Batch size during training. `-1` means whole batch.\n",
    "5. `vld_batch_size`: Batch size during validation. `-1` means whole batch.\n",
    "6. `lr`: Learning rate.\n",
    "7. `save_fp`: Path to save models. `None` means training without saving."
   ]
  },
  {
   "cell_type": "code",
   "execution_count": 3,
   "metadata": {},
   "outputs": [
    {
     "name": "stderr",
     "output_type": "stream",
     "text": [
      "Epoch 000 (TRN): 100%|| 357071/357071 [01:16<00:00, 4674.68seq/s, loss=0.771657, acc=0.799637]\n",
      "          (VLD): 100%|| 76515/76515 [00:04<00:00, 18580.62seq/s, loss=0.666901, acc=0.828263]\n",
      "Epoch 001 (TRN): 100%|| 357071/357071 [01:16<00:00, 4676.30seq/s, loss=0.648531, acc=0.833507]\n",
      "          (VLD): 100%|| 76515/76515 [00:04<00:00, 18855.35seq/s, loss=0.635343, acc=0.837485]\n"
     ]
    },
    {
     "name": "stdout",
     "output_type": "stream",
     "text": [
      "Done.\n"
     ]
    }
   ],
   "source": [
    "# data files\n",
    "trn_fn = './data/sample/human_train.txt'\n",
    "vld_fn = './data/sample/human_val.txt'\n",
    "\n",
    "# fit model w/o save\n",
    "model.fit(trn_fn=trn_fn, vld_fn=vld_fn, n_epoch=2, trn_batch_size=128, vld_batch_size=512, lr=.002, save_fp=None)\n",
    "# # fit model w/ save\n",
    "# model.fit(trn_fn=trn_fn, vld_fn=vld_fn, n_epoch=2, trn_batch_size=128, vld_batch_size=512, lr=.002, save_fp='./saved_models/tmp')\n",
    "print('Done.')"
   ]
  },
  {
   "cell_type": "markdown",
   "metadata": {},
   "source": [
    "### 2.2.3 Evaluation"
   ]
  },
  {
   "cell_type": "markdown",
   "metadata": {},
   "source": [
    "**`ablstm.ModelLSTM.eval()`** scores the given sequences. To maximize evaluation speed, batch size is prefered to be as large as possible, but if there is any memory or GPU memory issue, please reduce the batch size.\n",
    "\n",
    "Parameters:\n",
    "\n",
    "1. `fn`: Data file for evaluation.\n",
    "2. `batch_size`: Batch size. -1 means whole batch.\n",
    "\n",
    "Returns:\n",
    "\n",
    "1. 1-D NumPy array consists of all sequences' scores. Order is preserved."
   ]
  },
  {
   "cell_type": "code",
   "execution_count": 4,
   "metadata": {},
   "outputs": [
    {
     "name": "stdout",
     "output_type": "stream",
     "text": [
      "Evaluating human sequences...\n"
     ]
    },
    {
     "name": "stderr",
     "output_type": "stream",
     "text": [
      "100%|| 76515/76515 [00:06<00:00, 12046.95seq/s]\n"
     ]
    },
    {
     "name": "stdout",
     "output_type": "stream",
     "text": [
      "Evaluating mouse sequences...\n"
     ]
    },
    {
     "name": "stderr",
     "output_type": "stream",
     "text": [
      "100%|| 500000/500000 [00:41<00:00, 11817.00seq/s]\n"
     ]
    },
    {
     "name": "stdout",
     "output_type": "stream",
     "text": [
      "Done.\n"
     ]
    }
   ],
   "source": [
    "# data file names\n",
    "human_tst_fn = './data/sample/human_test.txt'\n",
    "mouse_tst_fn = './data/sample/mouse_test.txt'\n",
    "\n",
    "# evaluate\n",
    "print('Evaluating human sequences...')\n",
    "human_tst_scores = model.eval(fn=human_tst_fn, batch_size=512)\n",
    "print('Evaluating mouse sequences...')\n",
    "mouse_tst_scores = model.eval(fn=mouse_tst_fn, batch_size=512)\n",
    "print('Done.')"
   ]
  },
  {
   "cell_type": "markdown",
   "metadata": {},
   "source": [
    "Let's visualize the result."
   ]
  },
  {
   "cell_type": "code",
   "execution_count": 6,
   "metadata": {},
   "outputs": [
    {
     "data": {
      "image/png": "[encoded data removed]",
      "text/plain": [
       "<matplotlib.figure.Figure at 0x1a73f9a5828>"
      ]
     },
     "metadata": {},
     "output_type": "display_data"
    }
   ],
   "source": [
    "import matplotlib.pyplot as plt\n",
    "plt.hist(human_tst_scores, bins=100, alpha=0.8, density=True, label='Human')\n",
    "plt.hist(mouse_tst_scores, bins=100, alpha=0.8, density=True, label='Mouse')\n",
    "plt.legend()\n",
    "plt.show()"
   ]
  },
  {
   "cell_type": "markdown",
   "metadata": {},
   "source": [
    "### 2.2.4 Save & Load"
   ]
  },
  {
   "cell_type": "markdown",
   "metadata": {},
   "source": [
    "**`ablstm.ModelLSTM.save()`** saves model.\n",
    "\n",
    "Parameters:\n",
    "\n",
    "1. `fn`: Save file name."
   ]
  },
  {
   "cell_type": "markdown",
   "metadata": {},
   "source": [
    "**`ablstm.ModelLSTM.load()`** loads model from the given file. Please note that when `load()` method is invoked, all parameters will be overloaded except `device`. You may call `to()` method to switch among different devices.\n",
    "\n",
    "Parameters:\n",
    "\n",
    "1. `fn`: Load file name.\n",
    "\n",
    "Returns:\n",
    "\n",
    "1. Loaded model."
   ]
  },
  {
   "cell_type": "markdown",
   "metadata": {},
   "source": [
    "**`ablstm.ModelLSTM.to()`** reassigns device.\n",
    "\n",
    "Parameters:\n",
    "\n",
    "1. `device`: Device to mount."
   ]
  },
  {
   "cell_type": "code",
   "execution_count": 7,
   "metadata": {},
   "outputs": [
    {
     "name": "stdout",
     "output_type": "stream",
     "text": [
      "Model saved to ./saved_models/tmp/model_tmp.npy.\n",
      "Model loaded from ./saved_models/tmp/model_tmp.npy.\n"
     ]
    }
   ],
   "source": [
    "# save model\n",
    "model.save('./saved_models/tmp/model_tmp.npy')\n",
    "print('Model saved to ./saved_models/tmp/model_tmp.npy.')\n",
    "\n",
    "# load model\n",
    "model_loaded = ModelLSTM()\n",
    "model_loaded.load('./saved_models/tmp/model_tmp.npy')\n",
    "print('Model loaded from ./saved_models/tmp/model_tmp.npy.')"
   ]
  },
  {
   "cell_type": "markdown",
   "metadata": {},
   "source": [
    "### 2.3 Through command-line"
   ]
  },
  {
   "cell_type": "markdown",
   "metadata": {},
   "source": [
    "### 2.3.1 Model configuration"
   ]
  },
  {
   "cell_type": "markdown",
   "metadata": {},
   "source": [
    "Since neural network may have numerous parameters to configure that can appear excessively verbose if we pass all of them by commands. Most of the parameters, therefore, are stored in `ablstm.config` with XML format. The structure and the tag names exactly follow their corresponding Python class definition. Here is a sample XML configuration file. Please refer **section 2.2** for detailed description of those parameters.\n",
    "\n",
    "```xml\n",
    "<?xml version=\"1.0\"?>\n",
    "<ablstm>\n",
    "    <__init__>\n",
    "        <embedding_dim>64</embedding_dim>\n",
    "        <hidden_dim>64</hidden_dim>\n",
    "        <gapped>True</gapped>\n",
    "        <fixed_len>True</fixed_len>\n",
    "    </__init__>\n",
    "    <fit>\n",
    "        <n_epoch>8</n_epoch>\n",
    "        <trn_batch_size>128</trn_batch_size>\n",
    "        <vld_batch_size>512</vld_batch_size>\n",
    "        <lr>0.002</lr>\n",
    "    </fit>\n",
    "    <eval>\n",
    "        <batch_size>512</batch_size>\n",
    "    </eval>\n",
    "</ablstm>\n",
    "```"
   ]
  },
  {
   "cell_type": "markdown",
   "metadata": {},
   "source": [
    "### 2.3.2 Training"
   ]
  },
  {
   "cell_type": "markdown",
   "metadata": {},
   "source": [
    "**Manuel**\n",
    "\n",
    "```\n",
    "usage: ablstm.py fit [-h] [-l L] [-c C] [-d D] TRN_FN VLD_FN SAVE_FP\n",
    "\n",
    "positional arguments:\n",
    "  TRN_FN      training data file\n",
    "  VLD_FN      validation data file\n",
    "  SAVE_FP     model save path\n",
    "\n",
    "optional arguments:\n",
    "  -h, --help  show this help message and exit\n",
    "  -l L        model file to load (default: \"\")\n",
    "  -c C        configuration XML file (default: \"./ablstm.config\")\n",
    "  -d D        device (default: \"cpu\")\n",
    "```\n",
    "\n",
    "**Example**\n",
    "\n",
    "If you want to start a fresh training:\n",
    "\n",
    "```zsh\n",
    "> python ablstm.py fit ./data/sample/human_train.txt ./data/sample/human_val.txt ./saved_models/tmp\n",
    "```\n",
    "\n",
    "If you want to load a saved model and resume training:\n",
    "\n",
    "```zsh\n",
    "> python ablstm.py fit ./data/sample/human_train.txt ./data/sample/human_val.txt ./saved_models/tmp -l ./saved_models/tmp/model_tmp.npy\n",
    "```\n",
    "\n",
    "If you want to point to a configuration file other than `ablstm.config`:\n",
    "```zsh\n",
    "> python ablstm.py fit ./data/sample/human_train.txt ./data/sample/human_val.txt ./saved_models/tmp -c ./ablstm_new.config\n",
    "\n",
    "```"
   ]
  },
  {
   "cell_type": "markdown",
   "metadata": {},
   "source": [
    "### 2.3.3 Evaluation"
   ]
  },
  {
   "cell_type": "markdown",
   "metadata": {},
   "source": [
    "**Manuel**\n",
    "\n",
    "```\n",
    "usage: ablstm.py eval [-h] [-c C] [-d D] TST_FN MDL_FN SCR_FN\n",
    "\n",
    "positional arguments:\n",
    "  TST_FN      evaluation data file\n",
    "  MDL_FN      model file to load\n",
    "  SCR_FN      file to save scores\n",
    "\n",
    "optional arguments:\n",
    "  -h, --help  show this help message and exit\n",
    "  -c C        configuration XML file (default: \"./ablstm.config\")\n",
    "  -d D        device (default: \"cpu\")\n",
    "```\n",
    "\n",
    "**Example**\n",
    "\n",
    "```zsh\n",
    "> python ablstm.py eval ./data/sample/human_test.txt ./saved_models/tmp/model_tmp.npy ./results/result_human_test.txt\n",
    "```"
   ]
  }
 ],
 "metadata": {
  "kernelspec": {
   "display_name": "Python 3",
   "language": "python",
   "name": "python3"
  },
  "language_info": {
   "codemirror_mode": {
    "name": "ipython",
    "version": 3
   },
   "file_extension": ".py",
   "mimetype": "text/x-python",
   "name": "python",
   "nbconvert_exporter": "python",
   "pygments_lexer": "ipython3",
   "version": "3.6.4"
  }
 },
 "nbformat": 4,
 "nbformat_minor": 2
}
